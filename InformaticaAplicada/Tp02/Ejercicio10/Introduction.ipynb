{
 "cells": [
  {
   "cell_type": "code",
   "execution_count": 1,
   "metadata": {},
   "outputs": [],
   "source": [
    "import pandas as pd\n",
    "import numpy as np\n",
    "import matplotlib.pyplot as plt"
   ]
  },
  {
   "cell_type": "code",
   "execution_count": 4,
   "metadata": {},
   "outputs": [],
   "source": [
    "df= pd.read_csv('C:/Users/andre/OneDrive/Escritorio/LenguajesProgramacion/DataAnalyticsPython/data/gapminder-FiveYearData.csv')"
   ]
  },
  {
   "cell_type": "code",
   "execution_count": 5,
   "metadata": {
    "scrolled": true
   },
   "outputs": [
    {
     "data": {
      "text/html": [
       "<div>\n",
       "<style scoped>\n",
       "    .dataframe tbody tr th:only-of-type {\n",
       "        vertical-align: middle;\n",
       "    }\n",
       "\n",
       "    .dataframe tbody tr th {\n",
       "        vertical-align: top;\n",
       "    }\n",
       "\n",
       "    .dataframe thead th {\n",
       "        text-align: right;\n",
       "    }\n",
       "</style>\n",
       "<table border=\"1\" class=\"dataframe\">\n",
       "  <thead>\n",
       "    <tr style=\"text-align: right;\">\n",
       "      <th></th>\n",
       "      <th>country</th>\n",
       "      <th>year</th>\n",
       "      <th>pop</th>\n",
       "      <th>continent</th>\n",
       "      <th>lifeExp</th>\n",
       "      <th>gdpPercap</th>\n",
       "    </tr>\n",
       "  </thead>\n",
       "  <tbody>\n",
       "    <tr>\n",
       "      <th>0</th>\n",
       "      <td>Afghanistan</td>\n",
       "      <td>1952</td>\n",
       "      <td>8425333.0</td>\n",
       "      <td>Asia</td>\n",
       "      <td>28.801</td>\n",
       "      <td>779.445314</td>\n",
       "    </tr>\n",
       "    <tr>\n",
       "      <th>1</th>\n",
       "      <td>Afghanistan</td>\n",
       "      <td>1957</td>\n",
       "      <td>9240934.0</td>\n",
       "      <td>Asia</td>\n",
       "      <td>30.332</td>\n",
       "      <td>820.853030</td>\n",
       "    </tr>\n",
       "    <tr>\n",
       "      <th>2</th>\n",
       "      <td>Afghanistan</td>\n",
       "      <td>1962</td>\n",
       "      <td>10267083.0</td>\n",
       "      <td>Asia</td>\n",
       "      <td>31.997</td>\n",
       "      <td>853.100710</td>\n",
       "    </tr>\n",
       "    <tr>\n",
       "      <th>3</th>\n",
       "      <td>Afghanistan</td>\n",
       "      <td>1967</td>\n",
       "      <td>11537966.0</td>\n",
       "      <td>Asia</td>\n",
       "      <td>34.020</td>\n",
       "      <td>836.197138</td>\n",
       "    </tr>\n",
       "    <tr>\n",
       "      <th>4</th>\n",
       "      <td>Afghanistan</td>\n",
       "      <td>1972</td>\n",
       "      <td>13079460.0</td>\n",
       "      <td>Asia</td>\n",
       "      <td>36.088</td>\n",
       "      <td>739.981106</td>\n",
       "    </tr>\n",
       "    <tr>\n",
       "      <th>...</th>\n",
       "      <td>...</td>\n",
       "      <td>...</td>\n",
       "      <td>...</td>\n",
       "      <td>...</td>\n",
       "      <td>...</td>\n",
       "      <td>...</td>\n",
       "    </tr>\n",
       "    <tr>\n",
       "      <th>1699</th>\n",
       "      <td>Zimbabwe</td>\n",
       "      <td>1987</td>\n",
       "      <td>9216418.0</td>\n",
       "      <td>Africa</td>\n",
       "      <td>62.351</td>\n",
       "      <td>706.157306</td>\n",
       "    </tr>\n",
       "    <tr>\n",
       "      <th>1700</th>\n",
       "      <td>Zimbabwe</td>\n",
       "      <td>1992</td>\n",
       "      <td>10704340.0</td>\n",
       "      <td>Africa</td>\n",
       "      <td>60.377</td>\n",
       "      <td>693.420786</td>\n",
       "    </tr>\n",
       "    <tr>\n",
       "      <th>1701</th>\n",
       "      <td>Zimbabwe</td>\n",
       "      <td>1997</td>\n",
       "      <td>11404948.0</td>\n",
       "      <td>Africa</td>\n",
       "      <td>46.809</td>\n",
       "      <td>792.449960</td>\n",
       "    </tr>\n",
       "    <tr>\n",
       "      <th>1702</th>\n",
       "      <td>Zimbabwe</td>\n",
       "      <td>2002</td>\n",
       "      <td>11926563.0</td>\n",
       "      <td>Africa</td>\n",
       "      <td>39.989</td>\n",
       "      <td>672.038623</td>\n",
       "    </tr>\n",
       "    <tr>\n",
       "      <th>1703</th>\n",
       "      <td>Zimbabwe</td>\n",
       "      <td>2007</td>\n",
       "      <td>12311143.0</td>\n",
       "      <td>Africa</td>\n",
       "      <td>43.487</td>\n",
       "      <td>469.709298</td>\n",
       "    </tr>\n",
       "  </tbody>\n",
       "</table>\n",
       "<p>1704 rows × 6 columns</p>\n",
       "</div>"
      ],
      "text/plain": [
       "          country  year         pop continent  lifeExp   gdpPercap\n",
       "0     Afghanistan  1952   8425333.0      Asia   28.801  779.445314\n",
       "1     Afghanistan  1957   9240934.0      Asia   30.332  820.853030\n",
       "2     Afghanistan  1962  10267083.0      Asia   31.997  853.100710\n",
       "3     Afghanistan  1967  11537966.0      Asia   34.020  836.197138\n",
       "4     Afghanistan  1972  13079460.0      Asia   36.088  739.981106\n",
       "...           ...   ...         ...       ...      ...         ...\n",
       "1699     Zimbabwe  1987   9216418.0    Africa   62.351  706.157306\n",
       "1700     Zimbabwe  1992  10704340.0    Africa   60.377  693.420786\n",
       "1701     Zimbabwe  1997  11404948.0    Africa   46.809  792.449960\n",
       "1702     Zimbabwe  2002  11926563.0    Africa   39.989  672.038623\n",
       "1703     Zimbabwe  2007  12311143.0    Africa   43.487  469.709298\n",
       "\n",
       "[1704 rows x 6 columns]"
      ]
     },
     "execution_count": 5,
     "metadata": {},
     "output_type": "execute_result"
    }
   ],
   "source": [
    "df"
   ]
  },
  {
   "cell_type": "code",
   "execution_count": 6,
   "metadata": {},
   "outputs": [
    {
     "name": "stdout",
     "output_type": "stream",
     "text": [
      "       country  year         pop continent  lifeExp   gdpPercap\n",
      "0  Afghanistan  1952   8425333.0      Asia   28.801  779.445314\n",
      "1  Afghanistan  1957   9240934.0      Asia   30.332  820.853030\n",
      "2  Afghanistan  1962  10267083.0      Asia   31.997  853.100710\n",
      "3  Afghanistan  1967  11537966.0      Asia   34.020  836.197138\n",
      "4  Afghanistan  1972  13079460.0      Asia   36.088  739.981106\n"
     ]
    }
   ],
   "source": [
    "print(df.head())"
   ]
  },
  {
   "cell_type": "code",
   "execution_count": 7,
   "metadata": {},
   "outputs": [
    {
     "name": "stdout",
     "output_type": "stream",
     "text": [
      "(1704, 6)\n"
     ]
    }
   ],
   "source": [
    "print(df.shape)"
   ]
  },
  {
   "cell_type": "code",
   "execution_count": 8,
   "metadata": {},
   "outputs": [
    {
     "name": "stdout",
     "output_type": "stream",
     "text": [
      "Index(['country', 'year', 'pop', 'continent', 'lifeExp', 'gdpPercap'], dtype='object')\n"
     ]
    }
   ],
   "source": [
    "print(df.columns)"
   ]
  },
  {
   "cell_type": "code",
   "execution_count": 10,
   "metadata": {},
   "outputs": [
    {
     "name": "stdout",
     "output_type": "stream",
     "text": [
      "country       object\n",
      "year           int64\n",
      "pop          float64\n",
      "continent     object\n",
      "lifeExp      float64\n",
      "gdpPercap    float64\n",
      "dtype: object\n"
     ]
    }
   ],
   "source": [
    "print(df.dtypes)"
   ]
  },
  {
   "cell_type": "code",
   "execution_count": 11,
   "metadata": {},
   "outputs": [
    {
     "name": "stdout",
     "output_type": "stream",
     "text": [
      "<bound method DataFrame.info of           country  year         pop continent  lifeExp   gdpPercap\n",
      "0     Afghanistan  1952   8425333.0      Asia   28.801  779.445314\n",
      "1     Afghanistan  1957   9240934.0      Asia   30.332  820.853030\n",
      "2     Afghanistan  1962  10267083.0      Asia   31.997  853.100710\n",
      "3     Afghanistan  1967  11537966.0      Asia   34.020  836.197138\n",
      "4     Afghanistan  1972  13079460.0      Asia   36.088  739.981106\n",
      "...           ...   ...         ...       ...      ...         ...\n",
      "1699     Zimbabwe  1987   9216418.0    Africa   62.351  706.157306\n",
      "1700     Zimbabwe  1992  10704340.0    Africa   60.377  693.420786\n",
      "1701     Zimbabwe  1997  11404948.0    Africa   46.809  792.449960\n",
      "1702     Zimbabwe  2002  11926563.0    Africa   39.989  672.038623\n",
      "1703     Zimbabwe  2007  12311143.0    Africa   43.487  469.709298\n",
      "\n",
      "[1704 rows x 6 columns]>\n"
     ]
    }
   ],
   "source": [
    "print(df.info)"
   ]
  },
  {
   "cell_type": "code",
   "execution_count": 12,
   "metadata": {},
   "outputs": [],
   "source": [
    "country_df=df['country']\n"
   ]
  },
  {
   "cell_type": "code",
   "execution_count": 13,
   "metadata": {},
   "outputs": [
    {
     "name": "stdout",
     "output_type": "stream",
     "text": [
      "0    Afghanistan\n",
      "1    Afghanistan\n",
      "2    Afghanistan\n",
      "3    Afghanistan\n",
      "4    Afghanistan\n",
      "Name: country, dtype: object\n"
     ]
    }
   ],
   "source": [
    "print(country_df.head())"
   ]
  },
  {
   "cell_type": "code",
   "execution_count": null,
   "metadata": {},
   "outputs": [],
   "source": []
  },
  {
   "cell_type": "code",
   "execution_count": 14,
   "metadata": {},
   "outputs": [
    {
     "data": {
      "text/plain": [
       "country      Afghanistan\n",
       "year                1952\n",
       "pop          8.42533e+06\n",
       "continent           Asia\n",
       "lifeExp           28.801\n",
       "gdpPercap        779.445\n",
       "Name: 0, dtype: object"
      ]
     },
     "execution_count": 14,
     "metadata": {},
     "output_type": "execute_result"
    }
   ],
   "source": [
    "df.loc[0]"
   ]
  },
  {
   "cell_type": "code",
   "execution_count": 14,
   "metadata": {},
   "outputs": [
    {
     "name": "stdout",
     "output_type": "stream",
     "text": [
      "        country  lifeExp\n",
      "10  Afghanistan   42.129\n",
      "11  Afghanistan   43.828\n",
      "12      Albania   55.230\n",
      "13      Albania   59.280\n"
     ]
    }
   ],
   "source": [
    "print(df.loc[10:13, ['country', 'lifeExp']])"
   ]
  },
  {
   "cell_type": "code",
   "execution_count": 15,
   "metadata": {},
   "outputs": [
    {
     "name": "stdout",
     "output_type": "stream",
     "text": [
      "        country  lifeExp    gdpPercap\n",
      "10  Afghanistan   42.129   726.734055\n",
      "11  Afghanistan   43.828   974.580338\n",
      "12      Albania   55.230  1601.056136\n",
      "13      Albania   59.280  1942.284244\n"
     ]
    }
   ],
   "source": [
    "print(df.loc[10:13, ['country', 'lifeExp','gdpPercap']])"
   ]
  },
  {
   "cell_type": "code",
   "execution_count": 8,
   "metadata": {},
   "outputs": [
    {
     "name": "stdout",
     "output_type": "stream",
     "text": [
      "        country  lifeExp\n",
      "10  Afghanistan   42.129\n",
      "11  Afghanistan   43.828\n",
      "12      Albania   55.230\n",
      "13      Albania   59.280\n"
     ]
    }
   ],
   "source": [
    "print(df.loc[10:13, ['country', 'lifeExp']])\n"
   ]
  },
  {
   "cell_type": "code",
   "execution_count": 16,
   "metadata": {},
   "outputs": [
    {
     "name": "stdout",
     "output_type": "stream",
     "text": [
      "year\n",
      "1952    49.057620\n",
      "1957    51.507401\n",
      "1962    53.609249\n",
      "1967    55.678290\n",
      "1972    57.647386\n",
      "1977    59.570157\n",
      "1982    61.533197\n",
      "1987    63.212613\n",
      "1992    64.160338\n",
      "1997    65.014676\n",
      "2002    65.694923\n",
      "2007    67.007423\n",
      "Name: lifeExp, dtype: float64\n"
     ]
    }
   ],
   "source": [
    "print(df.groupby('year')['lifeExp'].mean())"
   ]
  },
  {
   "cell_type": "code",
   "execution_count": 13,
   "metadata": {},
   "outputs": [
    {
     "name": "stdout",
     "output_type": "stream",
     "text": [
      "       country  year         pop continent  lifeExp   gdpPercap\n",
      "0  Afghanistan  1952   8425333.0      Asia   28.801  779.445314\n",
      "1  Afghanistan  1957   9240934.0      Asia   30.332  820.853030\n",
      "2  Afghanistan  1962  10267083.0      Asia   31.997  853.100710\n",
      "3  Afghanistan  1967  11537966.0      Asia   34.020  836.197138\n",
      "4  Afghanistan  1972  13079460.0      Asia   36.088  739.981106\n",
      "5  Afghanistan  1977  14880372.0      Asia   38.438  786.113360\n",
      "6  Afghanistan  1982  12881816.0      Asia   39.854  978.011439\n",
      "7  Afghanistan  1987  13867957.0      Asia   40.822  852.395945\n",
      "8  Afghanistan  1992  16317921.0      Asia   41.674  649.341395\n",
      "9  Afghanistan  1997  22227415.0      Asia   41.763  635.341351\n"
     ]
    }
   ],
   "source": [
    "print(df.head(n=10))"
   ]
  },
  {
   "cell_type": "code",
   "execution_count": null,
   "metadata": {},
   "outputs": [],
   "source": []
  },
  {
   "cell_type": "code",
   "execution_count": 14,
   "metadata": {},
   "outputs": [
    {
     "name": "stdout",
     "output_type": "stream",
     "text": [
      "year\n",
      "1952    49.057620\n",
      "1957    51.507401\n",
      "1962    53.609249\n",
      "1967    55.678290\n",
      "1972    57.647386\n",
      "1977    59.570157\n",
      "1982    61.533197\n",
      "1987    63.212613\n",
      "1992    64.160338\n",
      "1997    65.014676\n",
      "2002    65.694923\n",
      "2007    67.007423\n",
      "Name: lifeExp, dtype: float64\n"
     ]
    }
   ],
   "source": [
    "print(df.groupby('year')['lifeExp'].mean())"
   ]
  },
  {
   "cell_type": "code",
   "execution_count": null,
   "metadata": {},
   "outputs": [],
   "source": []
  },
  {
   "cell_type": "code",
   "execution_count": 15,
   "metadata": {},
   "outputs": [
    {
     "name": "stdout",
     "output_type": "stream",
     "text": [
      "country\n",
      "Afghanistan           37.478833\n",
      "Albania               68.432917\n",
      "Algeria               59.030167\n",
      "Angola                37.883500\n",
      "Argentina             69.060417\n",
      "                        ...    \n",
      "Vietnam               57.479500\n",
      "West Bank and Gaza    60.328667\n",
      "Yemen Rep.            46.780417\n",
      "Zambia                45.996333\n",
      "Zimbabwe              52.663167\n",
      "Name: lifeExp, Length: 142, dtype: float64\n"
     ]
    }
   ],
   "source": [
    "print(df.groupby('country')['lifeExp'].mean())"
   ]
  },
  {
   "cell_type": "code",
   "execution_count": 17,
   "metadata": {},
   "outputs": [
    {
     "ename": "TypeError",
     "evalue": "unsupported operand type(s) for &: 'str' and 'str'",
     "output_type": "error",
     "traceback": [
      "\u001b[1;31m----------------------------------------------------------------\u001b[0m",
      "\u001b[1;31mTypeError\u001b[0m                      Traceback (most recent call last)",
      "\u001b[1;32m<ipython-input-17-849a6a450db9>\u001b[0m in \u001b[0;36m<module>\u001b[1;34m\u001b[0m\n\u001b[1;32m----> 1\u001b[1;33m \u001b[0mprint\u001b[0m\u001b[1;33m(\u001b[0m\u001b[0mdf\u001b[0m\u001b[1;33m.\u001b[0m\u001b[0mgroupby\u001b[0m\u001b[1;33m(\u001b[0m\u001b[1;34m'year'\u001b[0m \u001b[1;33m&\u001b[0m \u001b[1;34m'country'\u001b[0m\u001b[1;33m)\u001b[0m\u001b[1;33m[\u001b[0m\u001b[1;34m'lifeExp'\u001b[0m\u001b[1;33m]\u001b[0m\u001b[1;33m.\u001b[0m\u001b[0mmean\u001b[0m\u001b[1;33m(\u001b[0m\u001b[1;33m)\u001b[0m\u001b[1;33m)\u001b[0m\u001b[1;33m\u001b[0m\u001b[1;33m\u001b[0m\u001b[0m\n\u001b[0m",
      "\u001b[1;31mTypeError\u001b[0m: unsupported operand type(s) for &: 'str' and 'str'"
     ]
    }
   ],
   "source": [
    "print(df.groupby('year' & 'country')['lifeExp'].mean())"
   ]
  },
  {
   "cell_type": "code",
   "execution_count": 18,
   "metadata": {},
   "outputs": [
    {
     "name": "stdout",
     "output_type": "stream",
     "text": [
      "                                                pop     gdpPercap\n",
      "year country                  lifeExp                            \n",
      "1952 Afghanistan              28.801   8.425333e+06    779.445314\n",
      "     Albania                  55.230   1.282697e+06   1601.056136\n",
      "     Algeria                  43.077   9.279525e+06   2449.008185\n",
      "     Angola                   30.015   4.232095e+06   3520.610273\n",
      "     Argentina                62.485   1.787696e+07   5911.315053\n",
      "     Australia                69.120   8.691212e+06  10039.595640\n",
      "     Austria                  66.800   6.927772e+06   6137.076492\n",
      "     Bahrain                  50.939   1.204470e+05   9867.084765\n",
      "     Bangladesh               37.484   4.688686e+07    684.244172\n",
      "     Belgium                  68.000   8.730405e+06   8343.105127\n",
      "     Benin                    38.223   1.738315e+06   1062.752200\n",
      "     Bolivia                  40.414   2.883315e+06   2677.326347\n",
      "     Bosnia and Herzegovina   53.820   2.791000e+06    973.533195\n",
      "     Botswana                 47.622   4.423080e+05    851.241141\n",
      "     Brazil                   50.917   5.660256e+07   2108.944355\n",
      "     Bulgaria                 59.600   7.274900e+06   2444.286648\n",
      "     Burkina Faso             31.975   4.469979e+06    543.255241\n",
      "     Burundi                  39.031   2.445618e+06    339.296459\n",
      "     Cambodia                 39.417   4.693836e+06    368.469286\n",
      "     Cameroon                 38.523   5.009067e+06   1172.667655\n",
      "     Canada                   68.750   1.478558e+07  11367.161120\n",
      "     Central African Republic 35.463   1.291695e+06   1071.310713\n",
      "     Chad                     38.092   2.682462e+06   1178.665927\n",
      "     Chile                    54.745   6.377619e+06   3939.978789\n",
      "     China                    44.000   5.562635e+08    400.448611\n",
      "     Colombia                 50.643   1.235077e+07   2144.115096\n",
      "     Comoros                  40.715   1.539360e+05   1102.990936\n",
      "     Congo Dem. Rep.          39.143   1.410000e+07    780.542326\n",
      "     Congo Rep.               42.111   8.548850e+05   2125.621418\n",
      "     Costa Rica               57.206   9.263170e+05   2627.009471\n",
      "     Cote d'Ivoire            40.477   2.977019e+06   1388.594732\n",
      "     Croatia                  61.210   3.882229e+06   3119.236520\n",
      "     Cuba                     59.421   6.007797e+06   5586.538780\n",
      "     Czech Republic           66.870   9.125183e+06   6876.140250\n",
      "     Denmark                  70.780   4.334000e+06   9692.385245\n",
      "     Djibouti                 34.812   6.314900e+04   2669.529475\n",
      "     Dominican Republic       45.928   2.491346e+06   1397.717137\n",
      "     Ecuador                  48.357   3.548753e+06   3522.110717\n",
      "     Egypt                    41.893   2.222331e+07   1418.822445\n",
      "     El Salvador              45.262   2.042865e+06   3048.302900\n",
      "     Equatorial Guinea        34.482   2.169640e+05    375.643123\n",
      "     Eritrea                  35.928   1.438760e+06    328.940557\n",
      "     Ethiopia                 34.078   2.086094e+07    362.146280\n",
      "     Finland                  66.550   4.090500e+06   6424.519071\n",
      "     France                   67.410   4.245967e+07   7029.809327\n",
      "     Gabon                    37.003   4.207020e+05   4293.476475\n",
      "     Gambia                   30.000   2.843200e+05    485.230659\n",
      "     Germany                  67.500   6.914595e+07   7144.114393\n",
      "     Ghana                    43.149   5.581001e+06    911.298937\n",
      "     Greece                   65.860   7.733250e+06   3530.690067\n",
      "     Guatemala                42.023   3.146381e+06   2428.237769\n",
      "     Guinea                   33.609   2.664249e+06    510.196492\n",
      "     Guinea-Bissau            32.500   5.806530e+05    299.850319\n",
      "     Haiti                    37.579   3.201488e+06   1840.366939\n",
      "     Honduras                 41.912   1.517453e+06   2194.926204\n",
      "     Hong Kong China          60.960   2.125900e+06   3054.421209\n",
      "     Hungary                  64.030   9.504000e+06   5263.673816\n",
      "     Iceland                  72.490   1.479620e+05   7267.688428\n",
      "     India                    37.373   3.720000e+08    546.565749\n",
      "     Indonesia                37.468   8.205200e+07    749.681655\n"
     ]
    }
   ],
   "source": [
    "print(df.groupby(['year','country','lifeExp']).mean().head(n=60))"
   ]
  },
  {
   "cell_type": "code",
   "execution_count": null,
   "metadata": {},
   "outputs": [],
   "source": []
  },
  {
   "cell_type": "code",
   "execution_count": 27,
   "metadata": {},
   "outputs": [
    {
     "name": "stdout",
     "output_type": "stream",
     "text": [
      "                  lifeExp     gdpPercap\n",
      "year continent                         \n",
      "1952 Africa     39.135500   1252.572466\n",
      "     Americas   53.279840   4079.062552\n",
      "     Asia       46.314394   5195.484004\n",
      "     Europe     64.408500   5661.057435\n",
      "     Oceania    69.255000  10298.085650\n",
      "1957 Africa     41.266346   1385.236062\n",
      "     Americas   55.960280   4616.043733\n",
      "     Asia       49.318544   5787.732940\n",
      "     Europe     66.703067   6963.012816\n",
      "     Oceania    70.295000  11598.522455\n",
      "1962 Africa     43.319442   1598.078825\n",
      "     Americas   58.398760   4901.541870\n",
      "     Asia       51.563223   5729.369625\n",
      "     Europe     68.539233   8365.486814\n",
      "     Oceania    71.085000  12696.452430\n",
      "1967 Africa     45.334538   2050.363801\n",
      "     Americas   60.410920   5668.253496\n",
      "     Asia       54.663640   5971.173374\n",
      "     Europe     69.737600  10143.823757\n",
      "     Oceania    71.310000  14495.021790\n",
      "1972 Africa     47.450942   2339.615674\n",
      "     Americas   62.394920   6491.334139\n",
      "     Asia       57.319269   8187.468699\n",
      "     Europe     70.775033  12479.575246\n",
      "     Oceania    71.910000  16417.333380\n",
      "1977 Africa     49.580423   2585.938508\n",
      "     Americas   64.391560   7352.007126\n",
      "     Asia       59.610556   7791.314020\n",
      "     Europe     71.937767  14283.979110\n",
      "     Oceania    72.855000  17283.957605\n",
      "1982 Africa     51.592865   2481.592960\n",
      "     Americas   66.228840   7506.737088\n",
      "     Asia       62.617939   7434.135157\n",
      "     Europe     72.806400  15617.896551\n",
      "     Oceania    74.290000  18554.709840\n",
      "1987 Africa     53.344788   2282.668991\n",
      "     Americas   68.090720   7793.400261\n",
      "     Asia       64.851182   7608.226508\n",
      "     Europe     73.642167  17214.310727\n",
      "     Oceania    75.320000  20448.040160\n",
      "1992 Africa     53.629577   2281.810333\n",
      "     Americas   69.568360   8044.934406\n",
      "     Asia       66.537212   8639.690248\n",
      "     Europe     74.440100  17061.568084\n",
      "     Oceania    76.945000  20894.045885\n",
      "1997 Africa     53.598269   2378.759555\n",
      "     Americas   71.150480   8889.300863\n",
      "     Asia       68.020515   9834.093295\n",
      "     Europe     75.505167  19076.781802\n",
      "     Oceania    78.190000  24024.175170\n",
      "2002 Africa     53.325231   2599.385159\n",
      "     Americas   72.422040   9287.677107\n",
      "     Asia       69.233879  10174.090397\n",
      "     Europe     76.700600  21711.732422\n",
      "     Oceania    79.740000  26938.778040\n",
      "2007 Africa     54.806038   3089.032605\n",
      "     Americas   73.608120  11003.031625\n",
      "     Asia       70.728485  12473.026870\n",
      "     Europe     77.648600  25054.481636\n",
      "     Oceania    80.719500  29810.188275\n"
     ]
    }
   ],
   "source": [
    "print(df.groupby(['year','continent'])[['lifeExp','gdpPercap']].mean())"
   ]
  },
  {
   "cell_type": "code",
   "execution_count": 19,
   "metadata": {},
   "outputs": [],
   "source": [
    "x=df.groupby(['year','continent'])[['lifeExp','gdpPercap']].mean()"
   ]
  },
  {
   "cell_type": "code",
   "execution_count": 20,
   "metadata": {},
   "outputs": [
    {
     "data": {
      "text/html": [
       "<div>\n",
       "<style scoped>\n",
       "    .dataframe tbody tr th:only-of-type {\n",
       "        vertical-align: middle;\n",
       "    }\n",
       "\n",
       "    .dataframe tbody tr th {\n",
       "        vertical-align: top;\n",
       "    }\n",
       "\n",
       "    .dataframe thead th {\n",
       "        text-align: right;\n",
       "    }\n",
       "</style>\n",
       "<table border=\"1\" class=\"dataframe\">\n",
       "  <thead>\n",
       "    <tr style=\"text-align: right;\">\n",
       "      <th></th>\n",
       "      <th></th>\n",
       "      <th>lifeExp</th>\n",
       "      <th>gdpPercap</th>\n",
       "    </tr>\n",
       "    <tr>\n",
       "      <th>year</th>\n",
       "      <th>continent</th>\n",
       "      <th></th>\n",
       "      <th></th>\n",
       "    </tr>\n",
       "  </thead>\n",
       "  <tbody>\n",
       "    <tr>\n",
       "      <th rowspan=\"5\" valign=\"top\">1952</th>\n",
       "      <th>Africa</th>\n",
       "      <td>39.135500</td>\n",
       "      <td>1252.572466</td>\n",
       "    </tr>\n",
       "    <tr>\n",
       "      <th>Americas</th>\n",
       "      <td>53.279840</td>\n",
       "      <td>4079.062552</td>\n",
       "    </tr>\n",
       "    <tr>\n",
       "      <th>Asia</th>\n",
       "      <td>46.314394</td>\n",
       "      <td>5195.484004</td>\n",
       "    </tr>\n",
       "    <tr>\n",
       "      <th>Europe</th>\n",
       "      <td>64.408500</td>\n",
       "      <td>5661.057435</td>\n",
       "    </tr>\n",
       "    <tr>\n",
       "      <th>Oceania</th>\n",
       "      <td>69.255000</td>\n",
       "      <td>10298.085650</td>\n",
       "    </tr>\n",
       "    <tr>\n",
       "      <th rowspan=\"5\" valign=\"top\">1957</th>\n",
       "      <th>Africa</th>\n",
       "      <td>41.266346</td>\n",
       "      <td>1385.236062</td>\n",
       "    </tr>\n",
       "    <tr>\n",
       "      <th>Americas</th>\n",
       "      <td>55.960280</td>\n",
       "      <td>4616.043733</td>\n",
       "    </tr>\n",
       "    <tr>\n",
       "      <th>Asia</th>\n",
       "      <td>49.318544</td>\n",
       "      <td>5787.732940</td>\n",
       "    </tr>\n",
       "    <tr>\n",
       "      <th>Europe</th>\n",
       "      <td>66.703067</td>\n",
       "      <td>6963.012816</td>\n",
       "    </tr>\n",
       "    <tr>\n",
       "      <th>Oceania</th>\n",
       "      <td>70.295000</td>\n",
       "      <td>11598.522455</td>\n",
       "    </tr>\n",
       "    <tr>\n",
       "      <th rowspan=\"5\" valign=\"top\">1962</th>\n",
       "      <th>Africa</th>\n",
       "      <td>43.319442</td>\n",
       "      <td>1598.078825</td>\n",
       "    </tr>\n",
       "    <tr>\n",
       "      <th>Americas</th>\n",
       "      <td>58.398760</td>\n",
       "      <td>4901.541870</td>\n",
       "    </tr>\n",
       "    <tr>\n",
       "      <th>Asia</th>\n",
       "      <td>51.563223</td>\n",
       "      <td>5729.369625</td>\n",
       "    </tr>\n",
       "    <tr>\n",
       "      <th>Europe</th>\n",
       "      <td>68.539233</td>\n",
       "      <td>8365.486814</td>\n",
       "    </tr>\n",
       "    <tr>\n",
       "      <th>Oceania</th>\n",
       "      <td>71.085000</td>\n",
       "      <td>12696.452430</td>\n",
       "    </tr>\n",
       "    <tr>\n",
       "      <th rowspan=\"5\" valign=\"top\">1967</th>\n",
       "      <th>Africa</th>\n",
       "      <td>45.334538</td>\n",
       "      <td>2050.363801</td>\n",
       "    </tr>\n",
       "    <tr>\n",
       "      <th>Americas</th>\n",
       "      <td>60.410920</td>\n",
       "      <td>5668.253496</td>\n",
       "    </tr>\n",
       "    <tr>\n",
       "      <th>Asia</th>\n",
       "      <td>54.663640</td>\n",
       "      <td>5971.173374</td>\n",
       "    </tr>\n",
       "    <tr>\n",
       "      <th>Europe</th>\n",
       "      <td>69.737600</td>\n",
       "      <td>10143.823757</td>\n",
       "    </tr>\n",
       "    <tr>\n",
       "      <th>Oceania</th>\n",
       "      <td>71.310000</td>\n",
       "      <td>14495.021790</td>\n",
       "    </tr>\n",
       "    <tr>\n",
       "      <th rowspan=\"5\" valign=\"top\">1972</th>\n",
       "      <th>Africa</th>\n",
       "      <td>47.450942</td>\n",
       "      <td>2339.615674</td>\n",
       "    </tr>\n",
       "    <tr>\n",
       "      <th>Americas</th>\n",
       "      <td>62.394920</td>\n",
       "      <td>6491.334139</td>\n",
       "    </tr>\n",
       "    <tr>\n",
       "      <th>Asia</th>\n",
       "      <td>57.319269</td>\n",
       "      <td>8187.468699</td>\n",
       "    </tr>\n",
       "    <tr>\n",
       "      <th>Europe</th>\n",
       "      <td>70.775033</td>\n",
       "      <td>12479.575246</td>\n",
       "    </tr>\n",
       "    <tr>\n",
       "      <th>Oceania</th>\n",
       "      <td>71.910000</td>\n",
       "      <td>16417.333380</td>\n",
       "    </tr>\n",
       "    <tr>\n",
       "      <th rowspan=\"5\" valign=\"top\">1977</th>\n",
       "      <th>Africa</th>\n",
       "      <td>49.580423</td>\n",
       "      <td>2585.938508</td>\n",
       "    </tr>\n",
       "    <tr>\n",
       "      <th>Americas</th>\n",
       "      <td>64.391560</td>\n",
       "      <td>7352.007126</td>\n",
       "    </tr>\n",
       "    <tr>\n",
       "      <th>Asia</th>\n",
       "      <td>59.610556</td>\n",
       "      <td>7791.314020</td>\n",
       "    </tr>\n",
       "    <tr>\n",
       "      <th>Europe</th>\n",
       "      <td>71.937767</td>\n",
       "      <td>14283.979110</td>\n",
       "    </tr>\n",
       "    <tr>\n",
       "      <th>Oceania</th>\n",
       "      <td>72.855000</td>\n",
       "      <td>17283.957605</td>\n",
       "    </tr>\n",
       "    <tr>\n",
       "      <th rowspan=\"5\" valign=\"top\">1982</th>\n",
       "      <th>Africa</th>\n",
       "      <td>51.592865</td>\n",
       "      <td>2481.592960</td>\n",
       "    </tr>\n",
       "    <tr>\n",
       "      <th>Americas</th>\n",
       "      <td>66.228840</td>\n",
       "      <td>7506.737088</td>\n",
       "    </tr>\n",
       "    <tr>\n",
       "      <th>Asia</th>\n",
       "      <td>62.617939</td>\n",
       "      <td>7434.135157</td>\n",
       "    </tr>\n",
       "    <tr>\n",
       "      <th>Europe</th>\n",
       "      <td>72.806400</td>\n",
       "      <td>15617.896551</td>\n",
       "    </tr>\n",
       "    <tr>\n",
       "      <th>Oceania</th>\n",
       "      <td>74.290000</td>\n",
       "      <td>18554.709840</td>\n",
       "    </tr>\n",
       "    <tr>\n",
       "      <th rowspan=\"5\" valign=\"top\">1987</th>\n",
       "      <th>Africa</th>\n",
       "      <td>53.344788</td>\n",
       "      <td>2282.668991</td>\n",
       "    </tr>\n",
       "    <tr>\n",
       "      <th>Americas</th>\n",
       "      <td>68.090720</td>\n",
       "      <td>7793.400261</td>\n",
       "    </tr>\n",
       "    <tr>\n",
       "      <th>Asia</th>\n",
       "      <td>64.851182</td>\n",
       "      <td>7608.226508</td>\n",
       "    </tr>\n",
       "    <tr>\n",
       "      <th>Europe</th>\n",
       "      <td>73.642167</td>\n",
       "      <td>17214.310727</td>\n",
       "    </tr>\n",
       "    <tr>\n",
       "      <th>Oceania</th>\n",
       "      <td>75.320000</td>\n",
       "      <td>20448.040160</td>\n",
       "    </tr>\n",
       "    <tr>\n",
       "      <th rowspan=\"5\" valign=\"top\">1992</th>\n",
       "      <th>Africa</th>\n",
       "      <td>53.629577</td>\n",
       "      <td>2281.810333</td>\n",
       "    </tr>\n",
       "    <tr>\n",
       "      <th>Americas</th>\n",
       "      <td>69.568360</td>\n",
       "      <td>8044.934406</td>\n",
       "    </tr>\n",
       "    <tr>\n",
       "      <th>Asia</th>\n",
       "      <td>66.537212</td>\n",
       "      <td>8639.690248</td>\n",
       "    </tr>\n",
       "    <tr>\n",
       "      <th>Europe</th>\n",
       "      <td>74.440100</td>\n",
       "      <td>17061.568084</td>\n",
       "    </tr>\n",
       "    <tr>\n",
       "      <th>Oceania</th>\n",
       "      <td>76.945000</td>\n",
       "      <td>20894.045885</td>\n",
       "    </tr>\n",
       "    <tr>\n",
       "      <th rowspan=\"5\" valign=\"top\">1997</th>\n",
       "      <th>Africa</th>\n",
       "      <td>53.598269</td>\n",
       "      <td>2378.759555</td>\n",
       "    </tr>\n",
       "    <tr>\n",
       "      <th>Americas</th>\n",
       "      <td>71.150480</td>\n",
       "      <td>8889.300863</td>\n",
       "    </tr>\n",
       "    <tr>\n",
       "      <th>Asia</th>\n",
       "      <td>68.020515</td>\n",
       "      <td>9834.093295</td>\n",
       "    </tr>\n",
       "    <tr>\n",
       "      <th>Europe</th>\n",
       "      <td>75.505167</td>\n",
       "      <td>19076.781802</td>\n",
       "    </tr>\n",
       "    <tr>\n",
       "      <th>Oceania</th>\n",
       "      <td>78.190000</td>\n",
       "      <td>24024.175170</td>\n",
       "    </tr>\n",
       "    <tr>\n",
       "      <th rowspan=\"5\" valign=\"top\">2002</th>\n",
       "      <th>Africa</th>\n",
       "      <td>53.325231</td>\n",
       "      <td>2599.385159</td>\n",
       "    </tr>\n",
       "    <tr>\n",
       "      <th>Americas</th>\n",
       "      <td>72.422040</td>\n",
       "      <td>9287.677107</td>\n",
       "    </tr>\n",
       "    <tr>\n",
       "      <th>Asia</th>\n",
       "      <td>69.233879</td>\n",
       "      <td>10174.090397</td>\n",
       "    </tr>\n",
       "    <tr>\n",
       "      <th>Europe</th>\n",
       "      <td>76.700600</td>\n",
       "      <td>21711.732422</td>\n",
       "    </tr>\n",
       "    <tr>\n",
       "      <th>Oceania</th>\n",
       "      <td>79.740000</td>\n",
       "      <td>26938.778040</td>\n",
       "    </tr>\n",
       "    <tr>\n",
       "      <th rowspan=\"5\" valign=\"top\">2007</th>\n",
       "      <th>Africa</th>\n",
       "      <td>54.806038</td>\n",
       "      <td>3089.032605</td>\n",
       "    </tr>\n",
       "    <tr>\n",
       "      <th>Americas</th>\n",
       "      <td>73.608120</td>\n",
       "      <td>11003.031625</td>\n",
       "    </tr>\n",
       "    <tr>\n",
       "      <th>Asia</th>\n",
       "      <td>70.728485</td>\n",
       "      <td>12473.026870</td>\n",
       "    </tr>\n",
       "    <tr>\n",
       "      <th>Europe</th>\n",
       "      <td>77.648600</td>\n",
       "      <td>25054.481636</td>\n",
       "    </tr>\n",
       "    <tr>\n",
       "      <th>Oceania</th>\n",
       "      <td>80.719500</td>\n",
       "      <td>29810.188275</td>\n",
       "    </tr>\n",
       "  </tbody>\n",
       "</table>\n",
       "</div>"
      ],
      "text/plain": [
       "                  lifeExp     gdpPercap\n",
       "year continent                         \n",
       "1952 Africa     39.135500   1252.572466\n",
       "     Americas   53.279840   4079.062552\n",
       "     Asia       46.314394   5195.484004\n",
       "     Europe     64.408500   5661.057435\n",
       "     Oceania    69.255000  10298.085650\n",
       "1957 Africa     41.266346   1385.236062\n",
       "     Americas   55.960280   4616.043733\n",
       "     Asia       49.318544   5787.732940\n",
       "     Europe     66.703067   6963.012816\n",
       "     Oceania    70.295000  11598.522455\n",
       "1962 Africa     43.319442   1598.078825\n",
       "     Americas   58.398760   4901.541870\n",
       "     Asia       51.563223   5729.369625\n",
       "     Europe     68.539233   8365.486814\n",
       "     Oceania    71.085000  12696.452430\n",
       "1967 Africa     45.334538   2050.363801\n",
       "     Americas   60.410920   5668.253496\n",
       "     Asia       54.663640   5971.173374\n",
       "     Europe     69.737600  10143.823757\n",
       "     Oceania    71.310000  14495.021790\n",
       "1972 Africa     47.450942   2339.615674\n",
       "     Americas   62.394920   6491.334139\n",
       "     Asia       57.319269   8187.468699\n",
       "     Europe     70.775033  12479.575246\n",
       "     Oceania    71.910000  16417.333380\n",
       "1977 Africa     49.580423   2585.938508\n",
       "     Americas   64.391560   7352.007126\n",
       "     Asia       59.610556   7791.314020\n",
       "     Europe     71.937767  14283.979110\n",
       "     Oceania    72.855000  17283.957605\n",
       "1982 Africa     51.592865   2481.592960\n",
       "     Americas   66.228840   7506.737088\n",
       "     Asia       62.617939   7434.135157\n",
       "     Europe     72.806400  15617.896551\n",
       "     Oceania    74.290000  18554.709840\n",
       "1987 Africa     53.344788   2282.668991\n",
       "     Americas   68.090720   7793.400261\n",
       "     Asia       64.851182   7608.226508\n",
       "     Europe     73.642167  17214.310727\n",
       "     Oceania    75.320000  20448.040160\n",
       "1992 Africa     53.629577   2281.810333\n",
       "     Americas   69.568360   8044.934406\n",
       "     Asia       66.537212   8639.690248\n",
       "     Europe     74.440100  17061.568084\n",
       "     Oceania    76.945000  20894.045885\n",
       "1997 Africa     53.598269   2378.759555\n",
       "     Americas   71.150480   8889.300863\n",
       "     Asia       68.020515   9834.093295\n",
       "     Europe     75.505167  19076.781802\n",
       "     Oceania    78.190000  24024.175170\n",
       "2002 Africa     53.325231   2599.385159\n",
       "     Americas   72.422040   9287.677107\n",
       "     Asia       69.233879  10174.090397\n",
       "     Europe     76.700600  21711.732422\n",
       "     Oceania    79.740000  26938.778040\n",
       "2007 Africa     54.806038   3089.032605\n",
       "     Americas   73.608120  11003.031625\n",
       "     Asia       70.728485  12473.026870\n",
       "     Europe     77.648600  25054.481636\n",
       "     Oceania    80.719500  29810.188275"
      ]
     },
     "execution_count": 20,
     "metadata": {},
     "output_type": "execute_result"
    }
   ],
   "source": [
    "\n",
    "x"
   ]
  },
  {
   "cell_type": "code",
   "execution_count": null,
   "metadata": {},
   "outputs": [],
   "source": []
  },
  {
   "cell_type": "code",
   "execution_count": 21,
   "metadata": {},
   "outputs": [
    {
     "data": {
      "text/plain": [
       "<matplotlib.axes._subplots.AxesSubplot at 0x279f4bb21c0>"
      ]
     },
     "execution_count": 21,
     "metadata": {},
     "output_type": "execute_result"
    },
    {
     "data": {
      "image/png": "[encoded data removed]",
      "text/plain": [
       "<Figure size 432x288 with 1 Axes>"
      ]
     },
     "metadata": {
      "needs_background": "light"
     },
     "output_type": "display_data"
    }
   ],
   "source": [
    "x.plot()\n",
    "\n"
   ]
  },
  {
   "cell_type": "code",
   "execution_count": 7,
   "metadata": {},
   "outputs": [],
   "source": [
    "\n",
    "x=df.groupby(['year','continent'])['lifeExp'].mean()"
   ]
  },
  {
   "cell_type": "code",
   "execution_count": 33,
   "metadata": {},
   "outputs": [
    {
     "data": {
      "text/plain": [
       "year  continent\n",
       "1952  Africa       39.135500\n",
       "      Americas     53.279840\n",
       "      Asia         46.314394\n",
       "      Europe       64.408500\n",
       "      Oceania      69.255000\n",
       "1957  Africa       41.266346\n",
       "      Americas     55.960280\n",
       "      Asia         49.318544\n",
       "      Europe       66.703067\n",
       "      Oceania      70.295000\n",
       "1962  Africa       43.319442\n",
       "      Americas     58.398760\n",
       "      Asia         51.563223\n",
       "      Europe       68.539233\n",
       "      Oceania      71.085000\n",
       "1967  Africa       45.334538\n",
       "      Americas     60.410920\n",
       "      Asia         54.663640\n",
       "      Europe       69.737600\n",
       "      Oceania      71.310000\n",
       "1972  Africa       47.450942\n",
       "      Americas     62.394920\n",
       "      Asia         57.319269\n",
       "      Europe       70.775033\n",
       "      Oceania      71.910000\n",
       "1977  Africa       49.580423\n",
       "      Americas     64.391560\n",
       "      Asia         59.610556\n",
       "      Europe       71.937767\n",
       "      Oceania      72.855000\n",
       "1982  Africa       51.592865\n",
       "      Americas     66.228840\n",
       "      Asia         62.617939\n",
       "      Europe       72.806400\n",
       "      Oceania      74.290000\n",
       "1987  Africa       53.344788\n",
       "      Americas     68.090720\n",
       "      Asia         64.851182\n",
       "      Europe       73.642167\n",
       "      Oceania      75.320000\n",
       "1992  Africa       53.629577\n",
       "      Americas     69.568360\n",
       "      Asia         66.537212\n",
       "      Europe       74.440100\n",
       "      Oceania      76.945000\n",
       "1997  Africa       53.598269\n",
       "      Americas     71.150480\n",
       "      Asia         68.020515\n",
       "      Europe       75.505167\n",
       "      Oceania      78.190000\n",
       "2002  Africa       53.325231\n",
       "      Americas     72.422040\n",
       "      Asia         69.233879\n",
       "      Europe       76.700600\n",
       "      Oceania      79.740000\n",
       "2007  Africa       54.806038\n",
       "      Americas     73.608120\n",
       "      Asia         70.728485\n",
       "      Europe       77.648600\n",
       "      Oceania      80.719500\n",
       "Name: lifeExp, dtype: float64"
      ]
     },
     "execution_count": 33,
     "metadata": {},
     "output_type": "execute_result"
    }
   ],
   "source": [
    "x\n"
   ]
  },
  {
   "cell_type": "code",
   "execution_count": 34,
   "metadata": {},
   "outputs": [
    {
     "ename": "NameError",
     "evalue": "name 'X' is not defined",
     "output_type": "error",
     "traceback": [
      "\u001b[1;31m---------------------------------------------------------------------------\u001b[0m",
      "\u001b[1;31mNameError\u001b[0m                                 Traceback (most recent call last)",
      "\u001b[1;32m<ipython-input-34-cc8eecd25e91>\u001b[0m in \u001b[0;36m<module>\u001b[1;34m\u001b[0m\n\u001b[1;32m----> 1\u001b[1;33m \u001b[0mX\u001b[0m\u001b[1;33m.\u001b[0m\u001b[0mPLOT\u001b[0m\u001b[1;33m(\u001b[0m\u001b[1;33m)\u001b[0m\u001b[1;33m\u001b[0m\u001b[1;33m\u001b[0m\u001b[0m\n\u001b[0m",
      "\u001b[1;31mNameError\u001b[0m: name 'X' is not defined"
     ]
    }
   ],
   "source": [
    "X.PLOT()"
   ]
  },
  {
   "cell_type": "code",
   "execution_count": 8,
   "metadata": {},
   "outputs": [
    {
     "data": {
      "text/plain": [
       "<matplotlib.axes._subplots.AxesSubplot at 0x1d3d3b52b20>"
      ]
     },
     "execution_count": 8,
     "metadata": {},
     "output_type": "execute_result"
    },
    {
     "data": {
      "image/png": "[encoded data removed]",
      "text/plain": [
       "<Figure size 432x288 with 1 Axes>"
      ]
     },
     "metadata": {
      "needs_background": "light"
     },
     "output_type": "display_data"
    }
   ],
   "source": [
    "x.plot()"
   ]
  },
  {
   "cell_type": "code",
   "execution_count": 38,
   "metadata": {},
   "outputs": [],
   "source": [
    "x=df.groupby(['year'])[['lifeExp']].mean()"
   ]
  },
  {
   "cell_type": "code",
   "execution_count": 10,
   "metadata": {},
   "outputs": [
    {
     "data": {
      "text/plain": [
       "year  continent\n",
       "1952  Africa       39.135500\n",
       "      Americas     53.279840\n",
       "      Asia         46.314394\n",
       "      Europe       64.408500\n",
       "      Oceania      69.255000\n",
       "1957  Africa       41.266346\n",
       "      Americas     55.960280\n",
       "      Asia         49.318544\n",
       "      Europe       66.703067\n",
       "      Oceania      70.295000\n",
       "1962  Africa       43.319442\n",
       "      Americas     58.398760\n",
       "      Asia         51.563223\n",
       "      Europe       68.539233\n",
       "      Oceania      71.085000\n",
       "1967  Africa       45.334538\n",
       "      Americas     60.410920\n",
       "      Asia         54.663640\n",
       "      Europe       69.737600\n",
       "      Oceania      71.310000\n",
       "1972  Africa       47.450942\n",
       "      Americas     62.394920\n",
       "      Asia         57.319269\n",
       "      Europe       70.775033\n",
       "      Oceania      71.910000\n",
       "1977  Africa       49.580423\n",
       "      Americas     64.391560\n",
       "      Asia         59.610556\n",
       "      Europe       71.937767\n",
       "      Oceania      72.855000\n",
       "1982  Africa       51.592865\n",
       "      Americas     66.228840\n",
       "      Asia         62.617939\n",
       "      Europe       72.806400\n",
       "      Oceania      74.290000\n",
       "1987  Africa       53.344788\n",
       "      Americas     68.090720\n",
       "      Asia         64.851182\n",
       "      Europe       73.642167\n",
       "      Oceania      75.320000\n",
       "1992  Africa       53.629577\n",
       "      Americas     69.568360\n",
       "      Asia         66.537212\n",
       "      Europe       74.440100\n",
       "      Oceania      76.945000\n",
       "1997  Africa       53.598269\n",
       "      Americas     71.150480\n",
       "      Asia         68.020515\n",
       "      Europe       75.505167\n",
       "      Oceania      78.190000\n",
       "2002  Africa       53.325231\n",
       "      Americas     72.422040\n",
       "      Asia         69.233879\n",
       "      Europe       76.700600\n",
       "      Oceania      79.740000\n",
       "2007  Africa       54.806038\n",
       "      Americas     73.608120\n",
       "      Asia         70.728485\n",
       "      Europe       77.648600\n",
       "      Oceania      80.719500\n",
       "Name: lifeExp, dtype: float64"
      ]
     },
     "execution_count": 10,
     "metadata": {},
     "output_type": "execute_result"
    }
   ],
   "source": [
    "x"
   ]
  },
  {
   "cell_type": "code",
   "execution_count": 11,
   "metadata": {
    "scrolled": false
   },
   "outputs": [
    {
     "data": {
      "text/plain": [
       "<matplotlib.axes._subplots.AxesSubplot at 0x1d3d430a7c0>"
      ]
     },
     "execution_count": 11,
     "metadata": {},
     "output_type": "execute_result"
    },
    {
     "data": {
      "image/png": "[encoded data removed]",
      "text/plain": [
       "<Figure size 432x288 with 1 Axes>"
      ]
     },
     "metadata": {
      "needs_background": "light"
     },
     "output_type": "display_data"
    }
   ],
   "source": [
    "x.plot()"
   ]
  },
  {
   "cell_type": "code",
   "execution_count": null,
   "metadata": {},
   "outputs": [],
   "source": []
  },
  {
   "cell_type": "code",
   "execution_count": null,
   "metadata": {},
   "outputs": [],
   "source": []
  },
  {
   "cell_type": "code",
   "execution_count": null,
   "metadata": {},
   "outputs": [],
   "source": []
  }
 ],
 "metadata": {
  "kernelspec": {
   "display_name": "Python 3",
   "language": "python",
   "name": "python3"
  },
  "language_info": {
   "codemirror_mode": {
    "name": "ipython",
    "version": 3
   },
   "file_extension": ".py",
   "mimetype": "text/x-python",
   "name": "python",
   "nbconvert_exporter": "python",
   "pygments_lexer": "ipython3",
   "version": "3.8.3"
  }
 },
 "nbformat": 4,
 "nbformat_minor": 4
}
