{
 "cells": [
  {
   "cell_type": "code",
   "execution_count": 1,
   "metadata": {},
   "outputs": [],
   "source": [
    "import pandas as pd\n",
    "import numpy as np\n",
    "import matplotlib.pyplot as plt"
   ]
  },
  {
   "cell_type": "code",
   "execution_count": 2,
   "metadata": {},
   "outputs": [],
   "source": [
    "df= pd.read_csv('C:/Users/andre/OneDrive/Escritorio/InfAplicadaTP02/Ejercicio12/datoejercicio12.csv')"
   ]
  },
  {
   "cell_type": "code",
   "execution_count": 3,
   "metadata": {
    "scrolled": true
   },
   "outputs": [
    {
     "data": {
      "text/html": [
       "<div>\n",
       "<style scoped>\n",
       "    .dataframe tbody tr th:only-of-type {\n",
       "        vertical-align: middle;\n",
       "    }\n",
       "\n",
       "    .dataframe tbody tr th {\n",
       "        vertical-align: top;\n",
       "    }\n",
       "\n",
       "    .dataframe thead th {\n",
       "        text-align: right;\n",
       "    }\n",
       "</style>\n",
       "<table border=\"1\" class=\"dataframe\">\n",
       "  <thead>\n",
       "    <tr style=\"text-align: right;\">\n",
       "      <th></th>\n",
       "      <th>timestamp</th>\n",
       "      <th>Basilea Temperature [2 m elevation corrected]</th>\n",
       "      <th>Basilea Precipitation Total</th>\n",
       "      <th>Basilea Wind Speed [10 m]</th>\n",
       "      <th>Basilea Wind Direction [10 m]</th>\n",
       "    </tr>\n",
       "  </thead>\n",
       "  <tbody>\n",
       "    <tr>\n",
       "      <th>0</th>\n",
       "      <td>20201110T0000</td>\n",
       "      <td>10.240529</td>\n",
       "      <td>0.0</td>\n",
       "      <td>6.608722</td>\n",
       "      <td>119.357740</td>\n",
       "    </tr>\n",
       "    <tr>\n",
       "      <th>1</th>\n",
       "      <td>20201110T0100</td>\n",
       "      <td>9.680529</td>\n",
       "      <td>0.0</td>\n",
       "      <td>6.792466</td>\n",
       "      <td>122.005380</td>\n",
       "    </tr>\n",
       "    <tr>\n",
       "      <th>2</th>\n",
       "      <td>20201110T0200</td>\n",
       "      <td>9.490529</td>\n",
       "      <td>0.0</td>\n",
       "      <td>7.100310</td>\n",
       "      <td>120.465546</td>\n",
       "    </tr>\n",
       "    <tr>\n",
       "      <th>3</th>\n",
       "      <td>20201110T0300</td>\n",
       "      <td>9.210529</td>\n",
       "      <td>0.0</td>\n",
       "      <td>7.100310</td>\n",
       "      <td>120.465546</td>\n",
       "    </tr>\n",
       "    <tr>\n",
       "      <th>4</th>\n",
       "      <td>20201110T0400</td>\n",
       "      <td>8.820529</td>\n",
       "      <td>0.0</td>\n",
       "      <td>7.289445</td>\n",
       "      <td>122.905240</td>\n",
       "    </tr>\n",
       "    <tr>\n",
       "      <th>...</th>\n",
       "      <td>...</td>\n",
       "      <td>...</td>\n",
       "      <td>...</td>\n",
       "      <td>...</td>\n",
       "      <td>...</td>\n",
       "    </tr>\n",
       "    <tr>\n",
       "      <th>187</th>\n",
       "      <td>20201117T1900</td>\n",
       "      <td>11.590529</td>\n",
       "      <td>0.0</td>\n",
       "      <td>6.696387</td>\n",
       "      <td>126.253840</td>\n",
       "    </tr>\n",
       "    <tr>\n",
       "      <th>188</th>\n",
       "      <td>20201117T2000</td>\n",
       "      <td>10.580529</td>\n",
       "      <td>0.0</td>\n",
       "      <td>6.915374</td>\n",
       "      <td>128.659800</td>\n",
       "    </tr>\n",
       "    <tr>\n",
       "      <th>189</th>\n",
       "      <td>20201117T2100</td>\n",
       "      <td>9.730529</td>\n",
       "      <td>0.0</td>\n",
       "      <td>6.696387</td>\n",
       "      <td>126.253840</td>\n",
       "    </tr>\n",
       "    <tr>\n",
       "      <th>190</th>\n",
       "      <td>20201117T2200</td>\n",
       "      <td>8.860529</td>\n",
       "      <td>0.0</td>\n",
       "      <td>6.989936</td>\n",
       "      <td>124.508514</td>\n",
       "    </tr>\n",
       "    <tr>\n",
       "      <th>191</th>\n",
       "      <td>20201117T2300</td>\n",
       "      <td>8.190529</td>\n",
       "      <td>0.0</td>\n",
       "      <td>7.145796</td>\n",
       "      <td>130.914380</td>\n",
       "    </tr>\n",
       "  </tbody>\n",
       "</table>\n",
       "<p>192 rows × 5 columns</p>\n",
       "</div>"
      ],
      "text/plain": [
       "         timestamp  Basilea Temperature [2 m elevation corrected]  \\\n",
       "0    20201110T0000                                      10.240529   \n",
       "1    20201110T0100                                       9.680529   \n",
       "2    20201110T0200                                       9.490529   \n",
       "3    20201110T0300                                       9.210529   \n",
       "4    20201110T0400                                       8.820529   \n",
       "..             ...                                            ...   \n",
       "187  20201117T1900                                      11.590529   \n",
       "188  20201117T2000                                      10.580529   \n",
       "189  20201117T2100                                       9.730529   \n",
       "190  20201117T2200                                       8.860529   \n",
       "191  20201117T2300                                       8.190529   \n",
       "\n",
       "     Basilea Precipitation Total  Basilea Wind Speed [10 m]  \\\n",
       "0                            0.0                   6.608722   \n",
       "1                            0.0                   6.792466   \n",
       "2                            0.0                   7.100310   \n",
       "3                            0.0                   7.100310   \n",
       "4                            0.0                   7.289445   \n",
       "..                           ...                        ...   \n",
       "187                          0.0                   6.696387   \n",
       "188                          0.0                   6.915374   \n",
       "189                          0.0                   6.696387   \n",
       "190                          0.0                   6.989936   \n",
       "191                          0.0                   7.145796   \n",
       "\n",
       "     Basilea Wind Direction [10 m]  \n",
       "0                       119.357740  \n",
       "1                       122.005380  \n",
       "2                       120.465546  \n",
       "3                       120.465546  \n",
       "4                       122.905240  \n",
       "..                             ...  \n",
       "187                     126.253840  \n",
       "188                     128.659800  \n",
       "189                     126.253840  \n",
       "190                     124.508514  \n",
       "191                     130.914380  \n",
       "\n",
       "[192 rows x 5 columns]"
      ]
     },
     "execution_count": 3,
     "metadata": {},
     "output_type": "execute_result"
    }
   ],
   "source": [
    "df"
   ]
  },
  {
   "cell_type": "code",
   "execution_count": 4,
   "metadata": {},
   "outputs": [
    {
     "name": "stdout",
     "output_type": "stream",
     "text": [
      "Index(['timestamp', 'Basilea Temperature [2 m elevation corrected]',\n",
      "       'Basilea Precipitation Total', 'Basilea Wind Speed [10 m]',\n",
      "       'Basilea Wind Direction [10 m]'],\n",
      "      dtype='object')\n"
     ]
    }
   ],
   "source": [
    "print(df.columns)"
   ]
  },
  {
   "cell_type": "code",
   "execution_count": 5,
   "metadata": {},
   "outputs": [
    {
     "name": "stdout",
     "output_type": "stream",
     "text": [
      "timestamp                                         object\n",
      "Basilea Temperature [2 m elevation corrected]    float64\n",
      "Basilea Precipitation Total                      float64\n",
      "Basilea Wind Speed [10 m]                        float64\n",
      "Basilea Wind Direction [10 m]                    float64\n",
      "dtype: object\n"
     ]
    }
   ],
   "source": [
    "print(df.dtypes)"
   ]
  },
  {
   "cell_type": "code",
   "execution_count": 6,
   "metadata": {
    "scrolled": true
   },
   "outputs": [
    {
     "name": "stdout",
     "output_type": "stream",
     "text": [
      "<bound method DataFrame.info of          timestamp  Basilea Temperature [2 m elevation corrected]  \\\n",
      "0    20201110T0000                                      10.240529   \n",
      "1    20201110T0100                                       9.680529   \n",
      "2    20201110T0200                                       9.490529   \n",
      "3    20201110T0300                                       9.210529   \n",
      "4    20201110T0400                                       8.820529   \n",
      "..             ...                                            ...   \n",
      "187  20201117T1900                                      11.590529   \n",
      "188  20201117T2000                                      10.580529   \n",
      "189  20201117T2100                                       9.730529   \n",
      "190  20201117T2200                                       8.860529   \n",
      "191  20201117T2300                                       8.190529   \n",
      "\n",
      "     Basilea Precipitation Total  Basilea Wind Speed [10 m]  \\\n",
      "0                            0.0                   6.608722   \n",
      "1                            0.0                   6.792466   \n",
      "2                            0.0                   7.100310   \n",
      "3                            0.0                   7.100310   \n",
      "4                            0.0                   7.289445   \n",
      "..                           ...                        ...   \n",
      "187                          0.0                   6.696387   \n",
      "188                          0.0                   6.915374   \n",
      "189                          0.0                   6.696387   \n",
      "190                          0.0                   6.989936   \n",
      "191                          0.0                   7.145796   \n",
      "\n",
      "     Basilea Wind Direction [10 m]  \n",
      "0                       119.357740  \n",
      "1                       122.005380  \n",
      "2                       120.465546  \n",
      "3                       120.465546  \n",
      "4                       122.905240  \n",
      "..                             ...  \n",
      "187                     126.253840  \n",
      "188                     128.659800  \n",
      "189                     126.253840  \n",
      "190                     124.508514  \n",
      "191                     130.914380  \n",
      "\n",
      "[192 rows x 5 columns]>\n"
     ]
    }
   ],
   "source": [
    "print(df.info)"
   ]
  },
  {
   "cell_type": "code",
   "execution_count": 7,
   "metadata": {
    "scrolled": false
   },
   "outputs": [
    {
     "data": {
      "text/html": [
       "<div>\n",
       "<style scoped>\n",
       "    .dataframe tbody tr th:only-of-type {\n",
       "        vertical-align: middle;\n",
       "    }\n",
       "\n",
       "    .dataframe tbody tr th {\n",
       "        vertical-align: top;\n",
       "    }\n",
       "\n",
       "    .dataframe thead th {\n",
       "        text-align: right;\n",
       "    }\n",
       "</style>\n",
       "<table border=\"1\" class=\"dataframe\">\n",
       "  <thead>\n",
       "    <tr style=\"text-align: right;\">\n",
       "      <th></th>\n",
       "      <th>timestamp</th>\n",
       "      <th>Basilea Temperature [2 m elevation corrected]</th>\n",
       "      <th>Basilea Precipitation Total</th>\n",
       "      <th>Basilea Wind Speed [10 m]</th>\n",
       "      <th>Basilea Wind Direction [10 m]</th>\n",
       "    </tr>\n",
       "  </thead>\n",
       "  <tbody>\n",
       "    <tr>\n",
       "      <th>0</th>\n",
       "      <td>20201110T0000</td>\n",
       "      <td>10.240529</td>\n",
       "      <td>0.0</td>\n",
       "      <td>6.608722</td>\n",
       "      <td>119.357740</td>\n",
       "    </tr>\n",
       "    <tr>\n",
       "      <th>1</th>\n",
       "      <td>20201110T0100</td>\n",
       "      <td>9.680529</td>\n",
       "      <td>0.0</td>\n",
       "      <td>6.792466</td>\n",
       "      <td>122.005380</td>\n",
       "    </tr>\n",
       "    <tr>\n",
       "      <th>2</th>\n",
       "      <td>20201110T0200</td>\n",
       "      <td>9.490529</td>\n",
       "      <td>0.0</td>\n",
       "      <td>7.100310</td>\n",
       "      <td>120.465546</td>\n",
       "    </tr>\n",
       "    <tr>\n",
       "      <th>3</th>\n",
       "      <td>20201110T0300</td>\n",
       "      <td>9.210529</td>\n",
       "      <td>0.0</td>\n",
       "      <td>7.100310</td>\n",
       "      <td>120.465546</td>\n",
       "    </tr>\n",
       "    <tr>\n",
       "      <th>4</th>\n",
       "      <td>20201110T0400</td>\n",
       "      <td>8.820529</td>\n",
       "      <td>0.0</td>\n",
       "      <td>7.289445</td>\n",
       "      <td>122.905240</td>\n",
       "    </tr>\n",
       "    <tr>\n",
       "      <th>...</th>\n",
       "      <td>...</td>\n",
       "      <td>...</td>\n",
       "      <td>...</td>\n",
       "      <td>...</td>\n",
       "      <td>...</td>\n",
       "    </tr>\n",
       "    <tr>\n",
       "      <th>187</th>\n",
       "      <td>20201117T1900</td>\n",
       "      <td>11.590529</td>\n",
       "      <td>0.0</td>\n",
       "      <td>6.696387</td>\n",
       "      <td>126.253840</td>\n",
       "    </tr>\n",
       "    <tr>\n",
       "      <th>188</th>\n",
       "      <td>20201117T2000</td>\n",
       "      <td>10.580529</td>\n",
       "      <td>0.0</td>\n",
       "      <td>6.915374</td>\n",
       "      <td>128.659800</td>\n",
       "    </tr>\n",
       "    <tr>\n",
       "      <th>189</th>\n",
       "      <td>20201117T2100</td>\n",
       "      <td>9.730529</td>\n",
       "      <td>0.0</td>\n",
       "      <td>6.696387</td>\n",
       "      <td>126.253840</td>\n",
       "    </tr>\n",
       "    <tr>\n",
       "      <th>190</th>\n",
       "      <td>20201117T2200</td>\n",
       "      <td>8.860529</td>\n",
       "      <td>0.0</td>\n",
       "      <td>6.989936</td>\n",
       "      <td>124.508514</td>\n",
       "    </tr>\n",
       "    <tr>\n",
       "      <th>191</th>\n",
       "      <td>20201117T2300</td>\n",
       "      <td>8.190529</td>\n",
       "      <td>0.0</td>\n",
       "      <td>7.145796</td>\n",
       "      <td>130.914380</td>\n",
       "    </tr>\n",
       "  </tbody>\n",
       "</table>\n",
       "<p>192 rows × 5 columns</p>\n",
       "</div>"
      ],
      "text/plain": [
       "         timestamp  Basilea Temperature [2 m elevation corrected]  \\\n",
       "0    20201110T0000                                      10.240529   \n",
       "1    20201110T0100                                       9.680529   \n",
       "2    20201110T0200                                       9.490529   \n",
       "3    20201110T0300                                       9.210529   \n",
       "4    20201110T0400                                       8.820529   \n",
       "..             ...                                            ...   \n",
       "187  20201117T1900                                      11.590529   \n",
       "188  20201117T2000                                      10.580529   \n",
       "189  20201117T2100                                       9.730529   \n",
       "190  20201117T2200                                       8.860529   \n",
       "191  20201117T2300                                       8.190529   \n",
       "\n",
       "     Basilea Precipitation Total  Basilea Wind Speed [10 m]  \\\n",
       "0                            0.0                   6.608722   \n",
       "1                            0.0                   6.792466   \n",
       "2                            0.0                   7.100310   \n",
       "3                            0.0                   7.100310   \n",
       "4                            0.0                   7.289445   \n",
       "..                           ...                        ...   \n",
       "187                          0.0                   6.696387   \n",
       "188                          0.0                   6.915374   \n",
       "189                          0.0                   6.696387   \n",
       "190                          0.0                   6.989936   \n",
       "191                          0.0                   7.145796   \n",
       "\n",
       "     Basilea Wind Direction [10 m]  \n",
       "0                       119.357740  \n",
       "1                       122.005380  \n",
       "2                       120.465546  \n",
       "3                       120.465546  \n",
       "4                       122.905240  \n",
       "..                             ...  \n",
       "187                     126.253840  \n",
       "188                     128.659800  \n",
       "189                     126.253840  \n",
       "190                     124.508514  \n",
       "191                     130.914380  \n",
       "\n",
       "[192 rows x 5 columns]"
      ]
     },
     "execution_count": 7,
     "metadata": {},
     "output_type": "execute_result"
    }
   ],
   "source": [
    "df"
   ]
  },
  {
   "cell_type": "code",
   "execution_count": null,
   "metadata": {},
   "outputs": [],
   "source": []
  },
  {
   "cell_type": "code",
   "execution_count": 22,
   "metadata": {},
   "outputs": [],
   "source": [
    "velocidadMaxima=df.agg('Basilea Wind Speed [10 m]').max()"
   ]
  },
  {
   "cell_type": "code",
   "execution_count": 23,
   "metadata": {},
   "outputs": [
    {
     "data": {
      "text/plain": [
       "28.036118"
      ]
     },
     "execution_count": 23,
     "metadata": {},
     "output_type": "execute_result"
    }
   ],
   "source": [
    "velocidadMaxima"
   ]
  },
  {
   "cell_type": "code",
   "execution_count": 25,
   "metadata": {},
   "outputs": [],
   "source": [
    "velocidadMinima=df.agg('Basilea Wind Speed [10 m]').min()"
   ]
  },
  {
   "cell_type": "code",
   "execution_count": 26,
   "metadata": {},
   "outputs": [
    {
     "data": {
      "text/plain": [
       "0.35999998"
      ]
     },
     "execution_count": 26,
     "metadata": {},
     "output_type": "execute_result"
    }
   ],
   "source": [
    "velocidadMinima"
   ]
  },
  {
   "cell_type": "code",
   "execution_count": null,
   "metadata": {},
   "outputs": [],
   "source": []
  },
  {
   "cell_type": "code",
   "execution_count": 27,
   "metadata": {},
   "outputs": [],
   "source": [
    "temperaturaMaxima=df.agg('Basilea Temperature [2 m elevation corrected]').max()\n"
   ]
  },
  {
   "cell_type": "code",
   "execution_count": 28,
   "metadata": {},
   "outputs": [
    {
     "data": {
      "text/plain": [
       "18.13053"
      ]
     },
     "execution_count": 28,
     "metadata": {},
     "output_type": "execute_result"
    }
   ],
   "source": [
    "temperaturaMaxima"
   ]
  },
  {
   "cell_type": "code",
   "execution_count": 29,
   "metadata": {},
   "outputs": [],
   "source": [
    "temperaturaMinima=df.agg('Basilea Temperature [2 m elevation corrected]').min()"
   ]
  },
  {
   "cell_type": "code",
   "execution_count": 30,
   "metadata": {},
   "outputs": [
    {
     "data": {
      "text/plain": [
       "5.350528700000001"
      ]
     },
     "execution_count": 30,
     "metadata": {},
     "output_type": "execute_result"
    }
   ],
   "source": [
    "temperaturaMinima"
   ]
  },
  {
   "cell_type": "code",
   "execution_count": null,
   "metadata": {},
   "outputs": [],
   "source": []
  },
  {
   "cell_type": "code",
   "execution_count": 36,
   "metadata": {},
   "outputs": [
    {
     "name": "stdout",
     "output_type": "stream",
     "text": [
      "        timestamp  Basilea Temperature [2 m elevation corrected]  \\\n",
      "0   20201110T0000                                      10.240529   \n",
      "1   20201110T0100                                       9.680529   \n",
      "2   20201110T0200                                       9.490529   \n",
      "3   20201110T0300                                       9.210529   \n",
      "4   20201110T0400                                       8.820529   \n",
      "5   20201110T0500                                       8.550529   \n",
      "6   20201110T0600                                       8.340529   \n",
      "7   20201110T0700                                       7.710528   \n",
      "8   20201110T0800                                       7.300529   \n",
      "9   20201110T0900                                       8.230529   \n",
      "10  20201110T1000                                      10.830529   \n",
      "11  20201110T1100                                      12.820529   \n",
      "12  20201110T1200                                      14.570529   \n",
      "13  20201110T1300                                      14.800530   \n",
      "14  20201110T1400                                      15.690529   \n",
      "15  20201110T1500                                      16.110529   \n",
      "16  20201110T1600                                      15.890529   \n",
      "17  20201110T1700                                      15.160529   \n",
      "18  20201110T1800                                      14.440529   \n",
      "19  20201110T1900                                      13.470529   \n",
      "20  20201110T2000                                      13.050529   \n",
      "21  20201110T2100                                      12.700529   \n",
      "22  20201110T2200                                      11.920529   \n",
      "23  20201110T2300                                      11.270529   \n",
      "24  20201111T0000                                      10.820529   \n",
      "25  20201111T0100                                      10.540529   \n",
      "26  20201111T0200                                      10.720529   \n",
      "27  20201111T0300                                      10.230529   \n",
      "28  20201111T0400                                       9.080529   \n",
      "29  20201111T0500                                       8.890529   \n",
      "30  20201111T0600                                       9.070529   \n",
      "31  20201111T0700                                       9.320529   \n",
      "32  20201111T0800                                       9.700529   \n",
      "33  20201111T0900                                      10.740529   \n",
      "34  20201111T1000                                      11.880529   \n",
      "35  20201111T1100                                      13.120529   \n",
      "36  20201111T1200                                      14.130529   \n",
      "37  20201111T1300                                      13.370529   \n",
      "38  20201111T1400                                      14.080529   \n",
      "39  20201111T1500                                      14.210529   \n",
      "40  20201111T1600                                      13.720529   \n",
      "41  20201111T1700                                      12.770529   \n",
      "42  20201111T1800                                      12.050529   \n",
      "43  20201111T1900                                      10.680529   \n",
      "44  20201111T2000                                       9.120529   \n",
      "45  20201111T2100                                       7.880529   \n",
      "46  20201111T2200                                       7.160529   \n",
      "47  20201111T2300                                       6.600529   \n",
      "48  20201112T0000                                       5.640529   \n",
      "49  20201112T0100                                       5.350529   \n",
      "\n",
      "    Basilea Precipitation Total  Basilea Wind Speed [10 m]  \\\n",
      "0                           0.0                   6.608722   \n",
      "1                           0.0                   6.792466   \n",
      "2                           0.0                   7.100310   \n",
      "3                           0.0                   7.100310   \n",
      "4                           0.0                   7.289445   \n",
      "5                           0.0                   7.594208   \n",
      "6                           0.0                   7.903619   \n",
      "7                           0.0                   8.707237   \n",
      "8                           0.0                   8.534353   \n",
      "9                           0.0                   7.568566   \n",
      "10                          0.0                   9.000000   \n",
      "11                          0.0                   7.993298   \n",
      "12                          0.0                   6.840000   \n",
      "13                          0.0                   1.800000   \n",
      "14                          0.0                   3.219938   \n",
      "15                          0.0                   4.349896   \n",
      "16                          0.0                   4.680000   \n",
      "17                          0.0                   4.680000   \n",
      "18                          0.0                   4.693826   \n",
      "19                          0.0                   4.024922   \n",
      "20                          0.0                   5.052841   \n",
      "21                          0.0                   6.379216   \n",
      "22                          0.0                   6.763786   \n",
      "23                          0.0                   5.600286   \n",
      "24                          0.0                   4.510787   \n",
      "25                          0.0                   3.671294   \n",
      "26                          0.0                   2.276840   \n",
      "27                          0.0                   2.099143   \n",
      "28                          0.0                   1.938659   \n",
      "29                          0.0                   1.080000   \n",
      "30                          0.0                   3.096837   \n",
      "31                          0.0                   3.319036   \n",
      "32                          0.0                   4.024922   \n",
      "33                          0.0                   4.104631   \n",
      "34                          0.0                   5.400000   \n",
      "35                          0.0                   4.394360   \n",
      "36                          0.0                   4.024922   \n",
      "37                          0.0                   8.640000   \n",
      "38                          0.0                   7.787991   \n",
      "39                          0.0                   9.693296   \n",
      "40                          0.0                   7.695920   \n",
      "41                          0.0                   7.172949   \n",
      "42                          0.0                   6.877790   \n",
      "43                          0.0                   7.421590   \n",
      "44                          0.0                   7.903619   \n",
      "45                          0.0                   8.496304   \n",
      "46                          0.0                   9.673221   \n",
      "47                          0.0                  10.182337   \n",
      "48                          0.0                  10.195057   \n",
      "49                          0.0                   9.585739   \n",
      "\n",
      "    Basilea Wind Direction [10 m]  \n",
      "0                      119.357740  \n",
      "1                      122.005380  \n",
      "2                      120.465546  \n",
      "3                      120.465546  \n",
      "4                      122.905240  \n",
      "5                      121.429565  \n",
      "6                      120.068590  \n",
      "7                      119.744880  \n",
      "8                      117.645970  \n",
      "9                      115.346170  \n",
      "10                     106.260200  \n",
      "11                      97.765160  \n",
      "12                      89.999990  \n",
      "13                     360.000000  \n",
      "14                     333.434970  \n",
      "15                     335.556030  \n",
      "16                     337.380130  \n",
      "17                     337.380130  \n",
      "18                     327.528800  \n",
      "19                     296.565060  \n",
      "20                     265.914370  \n",
      "21                     253.610460  \n",
      "22                     244.798890  \n",
      "23                     225.000000  \n",
      "24                     208.610460  \n",
      "25                     191.309940  \n",
      "26                     161.565050  \n",
      "27                      30.963745  \n",
      "28                      21.801407  \n",
      "29                      89.999990  \n",
      "30                     125.537674  \n",
      "31                     130.601290  \n",
      "32                     116.565050  \n",
      "33                     105.255120  \n",
      "34                     126.869896  \n",
      "35                     145.007980  \n",
      "36                     116.565050  \n",
      "37                      89.999990  \n",
      "38                     123.690060  \n",
      "39                     111.801410  \n",
      "40                     100.784294  \n",
      "41                     107.525570  \n",
      "42                     132.878900  \n",
      "43                     140.906140  \n",
      "44                     149.931410  \n",
      "45                     143.615650  \n",
      "46                     135.000000  \n",
      "47                     135.000000  \n",
      "48                     132.137590  \n",
      "49                     124.286870  \n"
     ]
    }
   ],
   "source": [
    "print(df.head(n=50))"
   ]
  },
  {
   "cell_type": "code",
   "execution_count": null,
   "metadata": {},
   "outputs": [],
   "source": []
  }
 ],
 "metadata": {
  "kernelspec": {
   "display_name": "Python 3",
   "language": "python",
   "name": "python3"
  },
  "language_info": {
   "codemirror_mode": {
    "name": "ipython",
    "version": 3
   },
   "file_extension": ".py",
   "mimetype": "text/x-python",
   "name": "python",
   "nbconvert_exporter": "python",
   "pygments_lexer": "ipython3",
   "version": "3.8.3"
  }
 },
 "nbformat": 4,
 "nbformat_minor": 4
}
