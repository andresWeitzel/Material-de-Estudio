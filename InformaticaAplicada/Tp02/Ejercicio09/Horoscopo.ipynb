{
 "cells": [
  {
   "cell_type": "code",
   "execution_count": 1,
   "metadata": {},
   "outputs": [],
   "source": [
    "import numpy as np"
   ]
  },
  {
   "cell_type": "code",
   "execution_count": 5,
   "metadata": {},
   "outputs": [
    {
     "name": "stdout",
     "output_type": "stream",
     "text": [
      "Introducir año de nacimiento1994\n"
     ]
    }
   ],
   "source": [
    "año=int(input('Introducir año de nacimiento'))"
   ]
  },
  {
   "cell_type": "code",
   "execution_count": 7,
   "metadata": {},
   "outputs": [
    {
     "name": "stdout",
     "output_type": "stream",
     "text": [
      "Horoscopo 'Perro'\n"
     ]
    }
   ],
   "source": [
    "horosc=año%12\n",
    "\n",
    "if horosc==0:\n",
    "    print(\"Horoscopo 'Mono'\")\n",
    "\n",
    "elif horosc==1:\n",
    "    print(\"Horoscopo 'Pollo'\")\n",
    "\n",
    "elif horosc==2:\n",
    "    print(\"Horoscopo 'Perro'\")\n",
    "\n",
    "elif horosc==3:\n",
    "    print(\"Horoscopo 'Cerdo'\")\n",
    "    \n",
    "elif horosc==4:\n",
    "    print(\"Horoscopo 'Rata'\")\n",
    "    \n",
    "else:\n",
    "    print(\"ETC...\")    "
   ]
  },
  {
   "cell_type": "code",
   "execution_count": null,
   "metadata": {},
   "outputs": [],
   "source": []
  }
 ],
 "metadata": {
  "kernelspec": {
   "display_name": "Python 3",
   "language": "python",
   "name": "python3"
  },
  "language_info": {
   "codemirror_mode": {
    "name": "ipython",
    "version": 3
   },
   "file_extension": ".py",
   "mimetype": "text/x-python",
   "name": "python",
   "nbconvert_exporter": "python",
   "pygments_lexer": "ipython3",
   "version": "3.8.3"
  }
 },
 "nbformat": 4,
 "nbformat_minor": 4
}
